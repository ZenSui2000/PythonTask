{
 "cells": [
  {
   "cell_type": "code",
   "execution_count": 5,
   "id": "eb14de31-785e-4c2c-a477-300678653eab",
   "metadata": {},
   "outputs": [
    {
     "name": "stdout",
     "output_type": "stream",
     "text": [
      "List [1, 2, 3, 4, [44, 55, 66, True], False, (34, 56, 78, 89, 34), {1, 2, 3}, {1: 34, 'key2': [55, 67, 78, 89], 4: (45, 22, 61, 34)}, [56, 'data science'], 'Machine Learning']\n",
      "Flat List [1, 2, 3, 4, [44, 55, 66, True], False, (34, 56, 78, 89, 34), {1, 2, 3}, {1: 34, 'key2': [55, 67, 78, 89], 4: (45, 22, 61, 34)}, [56, 'data science'], 'Machine Learning']\n"
     ]
    }
   ],
   "source": [
    "def flat(lis):\n",
    "\tflatList = []\n",
    "\t\n",
    "\tfor element in lis:\n",
    "\t\tif type(element) is list:\n",
    "\t\t\t\n",
    "\t\t\tfor item in element:\n",
    "\t\t\t\tflatList.append(item)\n",
    "\t\telse:\n",
    "\t\t\tflatList.append(element)\n",
    "\treturn flatList\n",
    "\n",
    "\n",
    "lis = [1,2,3,4, [44,55,66, True], False, (34,56,78,89,34), {1,2,3,3,2,1}, {1:34, \"key2\": [55, 67, 78, 89], 4: (45,\n",
    "22, 61, 34)}, [56, 'data science'], 'Machine Learning']\n",
    "print('List', lis)\n",
    "print('Flat List', flat(lis))"
   ]
  },
  {
   "cell_type": "code",
   "execution_count": null,
   "id": "1dfbf9a2-b9b8-4a4c-a29b-abaa20406809",
   "metadata": {},
   "outputs": [],
   "source": [
    "def encrypt_message(message):\n",
    "    encrypted_message = \"\"\n",
    "    for char in message:\n",
    "        if char.isalpha():\n",
    "            char = char.lower()\n",
    "            encrypted_char = chr(ord('z') - (ord(char) - ord('a')))\n",
    "        elif char.isspace():\n",
    "            encrypted_char = '$'\n",
    "        else:\n",
    "            encrypted_char = char\n",
    "        encrypted_message += encrypted_char\n",
    "    return encrypted_message.lower()\n",
    "\n",
    "message = input(\"I want to become a Data Scientist: \")\n",
    "encrypted_message = encrypt_message(message)\n",
    "print(\"Encrypted message:\", encrypted_message)"
   ]
  },
  {
   "cell_type": "code",
   "execution_count": null,
   "id": "60cd0089-309a-4ae4-a28a-732fbd466dff",
   "metadata": {},
   "outputs": [],
   "source": []
  }
 ],
 "metadata": {
  "kernelspec": {
   "display_name": "Python 3 (ipykernel)",
   "language": "python",
   "name": "python3"
  },
  "language_info": {
   "codemirror_mode": {
    "name": "ipython",
    "version": 3
   },
   "file_extension": ".py",
   "mimetype": "text/x-python",
   "name": "python",
   "nbconvert_exporter": "python",
   "pygments_lexer": "ipython3",
   "version": "3.10.8"
  }
 },
 "nbformat": 4,
 "nbformat_minor": 5
}
